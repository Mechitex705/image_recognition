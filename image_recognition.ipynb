{
  "nbformat": 4,
  "nbformat_minor": 0,
  "metadata": {
    "colab": {
      "provenance": [],
      "mount_file_id": "1OZgE1KCXd0xaTZ5Vjj0TdVCZDVYgQJh6",
      "authorship_tag": "ABX9TyPb0nPudJuJcrha6xB31itB",
      "include_colab_link": true
    },
    "kernelspec": {
      "name": "python3",
      "display_name": "Python 3"
    },
    "language_info": {
      "name": "python"
    }
  },
  "cells": [
    {
      "cell_type": "markdown",
      "metadata": {
        "id": "view-in-github",
        "colab_type": "text"
      },
      "source": [
        "<a href=\"https://colab.research.google.com/github/Mechitex705/image_recognition/blob/main/image_recognition.ipynb\" target=\"_parent\"><img src=\"https://colab.research.google.com/assets/colab-badge.svg\" alt=\"Open In Colab\"/></a>"
      ]
    },
    {
      "cell_type": "code",
      "execution_count": 1,
      "metadata": {
        "colab": {
          "base_uri": "https://localhost:8080/"
        },
        "id": "1DbEeFcJi-UH",
        "outputId": "3a3351df-a56d-4ed7-9402-085296e25487"
      },
      "outputs": [
        {
          "output_type": "stream",
          "name": "stdout",
          "text": [
            "Drive already mounted at /content/drive; to attempt to forcibly remount, call drive.mount(\"/content/drive\", force_remount=True).\n"
          ]
        }
      ],
      "source": [
        "from google.colab import drive\n",
        "drive.mount('/content/drive')"
      ]
    },
    {
      "cell_type": "code",
      "source": [
        "import pandas as pd\n",
        "import numpy as np\n",
        "import matplotlib.pyplot as plt\n",
        "import matplotlib.image as mpimg\n",
        "import tensorflow as ts\n",
        "import os\n",
        "\n",
        "import tensorflow as tf\n",
        "\n",
        "# Define dataset directory\n",
        "dataset_dir = '/content/drive/MyDrive/image_recognition_tb'\n",
        "\n",
        "# Define image size and batch size\n",
        "image_size = (512, 512)  # As your images are 512x512\n",
        "batch_size = 32\n",
        "\n",
        "# Load dataset, this will automatically label based on folder names\n",
        "train_ds = tf.keras.preprocessing.image_dataset_from_directory(\n",
        "    dataset_dir,\n",
        "    image_size=image_size,\n",
        "    batch_size=batch_size,\n",
        "    label_mode='int',  # Automatically assigns labels based on folder names\n",
        "    class_names=['Normal', 'Tuberculosis']  # Ensures order of labels is consistent\n",
        ")"
      ],
      "metadata": {
        "colab": {
          "base_uri": "https://localhost:8080/"
        },
        "id": "nDco4k8H5rAI",
        "outputId": "e82c03de-9d12-4143-d6ee-e4cbf910aca0"
      },
      "execution_count": 2,
      "outputs": [
        {
          "output_type": "stream",
          "name": "stdout",
          "text": [
            "Found 4271 files belonging to 2 classes.\n"
          ]
        }
      ]
    },
    {
      "cell_type": "code",
      "source": [
        "# Check the class names\n",
        "print(train_ds.class_names)\n",
        "\n",
        "# Inspect the shape and labels of a batch\n",
        "for images, labels in train_ds.take(1):\n",
        "    print(f'Image batch shape: {images.shape}')\n",
        "    print(f'Label batch shape: {labels.shape}')\n"
      ],
      "metadata": {
        "id": "CcRZRMXCuVeh",
        "colab": {
          "base_uri": "https://localhost:8080/"
        },
        "outputId": "5129104e-5408-434d-bb9f-6cb80fd6f803"
      },
      "execution_count": 7,
      "outputs": [
        {
          "output_type": "stream",
          "name": "stdout",
          "text": [
            "['Normal', 'Tuberculosis']\n",
            "Image batch shape: (32, 512, 512, 3)\n",
            "Label batch shape: (32,)\n"
          ]
        }
      ]
    },
    {
      "cell_type": "markdown",
      "source": [],
      "metadata": {
        "id": "MLAkrAYjOTg3"
      }
    },
    {
      "cell_type": "markdown",
      "source": [
        "**4271** images have been successfully divided into 2 classes, Normal and Tuberculosis.\n",
        "I loaded 32 images per batch, and each image is 512x512 pixels with 3 color channels.\n",
        "Each batch comes with 32 corresponding labels (one for each image)."
      ],
      "metadata": {
        "id": "EjH2JTfcuClh"
      }
    },
    {
      "cell_type": "markdown",
      "source": [],
      "metadata": {
        "id": "4rqHGNejzPB-"
      }
    },
    {
      "cell_type": "code",
      "source": [],
      "metadata": {
        "id": "-xnlOE-5Oaxy"
      },
      "execution_count": null,
      "outputs": []
    }
  ]
}